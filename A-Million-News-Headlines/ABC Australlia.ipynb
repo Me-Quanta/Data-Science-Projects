{
 "cells": [
  {
   "cell_type": "markdown",
   "metadata": {},
   "source": [
    "# Analysis of News Headlines: Topic Modelling with LSA\n",
    "In this Project, LSA modelling algorithm is explored. These techniques are applied to the 'A Million News Headlines' dataset, which is a corpus of over one million news article headlines published by the ABC. "
   ]
  },
  {
   "cell_type": "markdown",
   "metadata": {},
   "source": [
    "## Import required packages and modules"
   ]
  },
  {
   "cell_type": "code",
   "execution_count": 1,
   "metadata": {},
   "outputs": [],
   "source": [
    "import numpy as np\n",
    "import pandas as pd\n",
    "from IPython.display import display\n",
    "from tqdm import tqdm\n",
    "from collections import Counter\n",
    "import nltk\n",
    "import matplotlib.pyplot as plt\n",
    "import matplotlib.mlab as mlab\n",
    "from sklearn.feature_extraction.text import CountVectorizer\n",
    "from textblob import TextBlob\n",
    "from sklearn.decomposition import TruncatedSVD\n",
    "from sklearn.decomposition import LatentDirichletAllocation\n",
    "from sklearn.manifold import TSNE\n",
    "from bokeh.plotting import figure, output_file, show\n",
    "from bokeh.models import Label\n",
    "%matplotlib inline"
   ]
  },
  {
   "cell_type": "markdown",
   "metadata": {},
   "source": [
    "## Import Dataset"
   ]
  },
  {
   "cell_type": "code",
   "execution_count": 2,
   "metadata": {},
   "outputs": [
    {
     "data": {
      "text/plain": [
       "publish_date\n",
       "2003-02-19    aba decides against community broadcasting lic...\n",
       "2003-02-19       act fire witnesses must be aware of defamation\n",
       "2003-02-19       a g calls for infrastructure protection summit\n",
       "2003-02-19             air nz staff in aust strike for pay rise\n",
       "2003-02-19        air nz strike to affect australian travellers\n",
       "Name: headline_text, dtype: object"
      ]
     },
     "execution_count": 2,
     "metadata": {},
     "output_type": "execute_result"
    }
   ],
   "source": [
    "file_name = 'abcnews-date-text.csv'\n",
    "dataframe = pd.read_csv(file_name, parse_dates=[0], infer_datetime_format=True)\n",
    "\n",
    "data = dataframe['headline_text']\n",
    "data.index = dataframe['publish_date']\n",
    "\n",
    "data.head()"
   ]
  },
  {
   "cell_type": "markdown",
   "metadata": {},
   "source": [
    "## Exploratory Data Analysis\n",
    "As usual, it is prudent to begin with some basic exploratory analysis."
   ]
  },
  {
   "cell_type": "code",
   "execution_count": 3,
   "metadata": {},
   "outputs": [
    {
     "name": "stdout",
     "output_type": "stream",
     "text": [
      "16\n"
     ]
    }
   ],
   "source": [
    "# Find number of NaN values and drop them\n",
    "print(data.isna().sum())\n",
    "data.dropna(inplace = True)"
   ]
  },
  {
   "cell_type": "code",
   "execution_count": 4,
   "metadata": {},
   "outputs": [
    {
     "name": "stdout",
     "output_type": "stream",
     "text": [
      "(1082460,)\n",
      "(100000,)\n"
     ]
    },
    {
     "data": {
      "text/plain": [
       "publish_date\n",
       "2015-09-21         live malcolm turnbulls new ministry sworn in\n",
       "2015-09-21    local market down 2.5 per cent as federal rese...\n",
       "2015-09-21    local share market falls nearly 2pc investor l...\n",
       "2015-09-21              louise bell murder dieter pfennig trial\n",
       "2015-09-21    lucille butterworth fourth week of inquest begins\n",
       "Name: headline_text, dtype: object"
      ]
     },
     "execution_count": 4,
     "metadata": {},
     "output_type": "execute_result"
    }
   ],
   "source": [
    "# Pick up sample data from complete data ( You can do operations on entire data it is upto you)\n",
    "print(data.shape)\n",
    "data = data[-100001:-1]\n",
    "print(data.shape)\n",
    "data.head()"
   ]
  },
  {
   "cell_type": "code",
   "execution_count": 5,
   "metadata": {},
   "outputs": [
    {
     "name": "stderr",
     "output_type": "stream",
     "text": [
      "[nltk_data] Error loading stopwords: <urlopen error [Errno -2] Name or\n",
      "[nltk_data]     service not known>\n"
     ]
    },
    {
     "data": {
      "text/plain": [
       "False"
      ]
     },
     "execution_count": 5,
     "metadata": {},
     "output_type": "execute_result"
    }
   ],
   "source": [
    "# Download Stopwords if not done already\n",
    "nltk.download('stopwords')"
   ]
  },
  {
   "cell_type": "code",
   "execution_count": 6,
   "metadata": {},
   "outputs": [],
   "source": [
    "stopwords = nltk.corpus.stopwords.words('english')\n",
    "newStopWords = ['new','man','says','qld','wa','sa','could','should','first','second','one','two','australia','australian','day','south','year','years','2016','man','woman','home','car','canberra','melbourne','north','south','east','west','adelaide','perth','nsw','sydney',\"a\", \"about\", \"above\", \"above\", \"across\", \"after\", \"afterwards\", \"again\", \"against\", \"all\", \"almost\", \"alone\", \"along\", \"already\", \"also\",\"although\",\"always\",\"am\",\"among\", \"amongst\", \"amoungst\", \"amount\",  \"an\", \"and\", \"another\", \"any\",\"anyhow\",\"anyone\",\"anything\",\"anyway\", \"anywhere\", \"are\", \"around\", \"as\",  \"at\", \"back\",\"be\",\"became\", \"because\",\"become\",\"becomes\", \"becoming\", \"been\", \"before\", \"beforehand\", \"behind\", \"being\", \"below\", \"beside\", \"besides\", \"between\", \"beyond\", \"bill\", \"both\", \"bottom\",\"but\", \"by\", \"call\", \"can\", \"cannot\", \"cant\", \"co\", \"con\", \"could\", \"couldnt\", \"cry\", \"de\", \"describe\", \"detail\", \"do\", \"done\", \"down\", \"due\", \"during\", \"each\", \"eg\", \"eight\", \"either\", \"eleven\",\"else\", \"elsewhere\", \"empty\", \"enough\", \"etc\", \"even\", \"ever\", \"every\", \"everyone\", \"everything\", \"everywhere\", \"except\", \"few\", \"fifteen\", \"fify\", \"fill\", \"find\", \"fire\", \"first\", \"five\", \"for\", \"former\", \"formerly\", \"forty\", \"found\", \"four\", \"from\", \"front\", \"full\", \"further\", \"get\", \"give\", \"go\", \"had\", \"has\", \"hasnt\", \"have\", \"he\", \"hence\", \"her\", \"here\", \"hereafter\", \"hereby\", \"herein\", \"hereupon\", \"hers\", \"herself\", \"him\", \"himself\", \"his\", \"how\", \"however\", \"hundred\", \"ie\", \"if\", \"in\", \"inc\", \"indeed\", \"interest\", \"into\", \"is\", \"it\", \"its\", \"itself\", \"keep\", \"last\", \"latter\", \"latterly\", \"least\", \"less\", \"ltd\", \"made\", \"many\", \"may\", \"me\", \"meanwhile\", \"might\", \"mill\", \"mine\", \"more\", \"moreover\", \"most\", \"mostly\", \"move\", \"much\", \"must\", \"my\", \"myself\", \"name\", \"namely\", \"neither\", \"never\", \"nevertheless\", \"next\", \"nine\", \"no\", \"nobody\", \"none\", \"noone\", \"nor\", \"not\", \"nothing\", \"now\", \"nowhere\", \"of\", \"off\", \"often\", \"on\", \"once\", \"one\", \"only\", \"onto\", \"or\", \"other\", \"others\", \"otherwise\", \"our\", \"ours\", \"ourselves\", \"out\", \"over\", \"own\",\"part\", \"per\", \"perhaps\", \"please\", \"put\", \"rather\", \"re\", \"same\", \"see\", \"seem\", \"seemed\", \"seeming\", \"seems\", \"serious\", \"several\", \"she\", \"should\", \"show\", \"side\", \"since\", \"sincere\", \"six\", \"sixty\", \"so\", \"some\", \"somehow\", \"someone\", \"something\", \"sometime\", \"sometimes\", \"somewhere\", \"still\", \"such\", \"system\", \"take\", \"ten\", \"than\", \"that\", \"the\", \"their\", \"them\", \"themselves\", \"then\", \"thence\", \"there\", \"thereafter\", \"thereby\", \"therefore\", \"therein\", \"thereupon\", \"these\", \"they\", \"thickv\", \"thin\", \"third\", \"this\", \"those\", \"though\", \"three\", \"through\", \"throughout\", \"thru\", \"thus\", \"to\", \"together\", \"too\", \"top\", \"toward\", \"towards\", \"twelve\", \"twenty\", \"two\", \"un\", \"under\", \"until\", \"up\", \"upon\", \"us\", \"very\", \"via\", \"was\", \"we\", \"well\", \"were\", \"what\", \"whatever\", \"when\", \"whence\", \"whenever\", \"where\", \"whereafter\", \"whereas\", \"whereby\", \"wherein\", \"whereupon\", \"wherever\", \"whether\", \"which\", \"while\", \"whither\", \"who\", \"whoever\", \"whole\", \"whom\", \"whose\", \"why\", \"will\", \"with\", \"within\", \"without\", \"would\", \"yet\", \"you\", \"your\", \"yours\", \"yourself\", \"yourselves\"]\n",
    "stopwords.extend(newStopWords)"
   ]
  },
  {
   "cell_type": "code",
   "execution_count": 7,
   "metadata": {},
   "outputs": [],
   "source": [
    "## Define helper functions to get top n words\n",
    "## Defined function must return a tuple of the top n words in a sample and their \n",
    "## accompanying counts, given a CountVectorizer object and text sample\n",
    "\n",
    "def get_top_n_words(n, vectorizer, text):\n",
    "    headlines = vectorizer.fit_transform(text.values)\n",
    "    total = np.sum(headlines, axis=0)\n",
    "    indices = np.flip(np.argsort(total)[0,:], 1)\n",
    "    values = np.flip(np.sort(total)[0,:],1)\n",
    "    \n",
    "    vectors = np.zeros((n, headlines.shape[1]))\n",
    "    for i in range(n):\n",
    "        vectors[i,indices[0,i]] = 1\n",
    "\n",
    "    words = [word[0].encode('ascii').decode('utf-8') for \n",
    "             word in vectorizer.inverse_transform(vectors)]\n",
    "\n",
    "    return (words, values[0,:n].tolist()[0])"
   ]
  },
  {
   "cell_type": "code",
   "execution_count": 8,
   "metadata": {},
   "outputs": [
    {
     "data": {
      "image/png": "[encoded data removed]",
      "text/plain": [
       "<Figure size 1152x576 with 1 Axes>"
      ]
     },
     "metadata": {
      "needs_background": "light"
     },
     "output_type": "display_data"
    }
   ],
   "source": [
    "## plot top 25 words in headlines dataset and their number of occurances\n",
    "## Pass the new created set of stopwords to count vectoriser function\n",
    "## Initially try to work on a batch of data instead of entire dataset (Say on 200000 examples)\n",
    "\n",
    "count_vectorizer = CountVectorizer(stop_words=stopwords)\n",
    "words, word_values = get_top_n_words(n=25,vectorizer=count_vectorizer, text=data)\n",
    "\n",
    "fig, ax = plt.subplots(figsize=(16,8))\n",
    "ax.bar(range(len(words)), word_values);\n",
    "ax.set_xticks(range(len(words)));\n",
    "ax.set_xticklabels(words, rotation='vertical');\n",
    "ax.set_title('Top words in ABC headlines dataset');\n",
    "ax.set_xlabel('English Words');\n",
    "ax.set_ylabel('Number of occurences in dataset');\n",
    "plt.show()"
   ]
  },
  {
   "cell_type": "code",
   "execution_count": null,
   "metadata": {},
   "outputs": [],
   "source": [
    "## You can download punkt and averaged perceptron tagger for NLTK if required using\n",
    "## nltk.download('punkt')\n",
    "## nltk.download('averaged_perceptron_tagger')"
   ]
  },
  {
   "cell_type": "code",
   "execution_count": 9,
   "metadata": {},
   "outputs": [],
   "source": [
    "## Identify Tagged Headlines\n",
    "\n",
    "tagged_headlines = [TextBlob(data[i]).pos_tags for i in range(data.shape[0])]"
   ]
  },
  {
   "cell_type": "code",
   "execution_count": 10,
   "metadata": {},
   "outputs": [],
   "source": [
    "## For furthur analysis one can try finding average headline word length\n",
    "## and Part of speech tagging for headline corpus\n",
    "\n",
    "thDataframe = pd.DataFrame({'tags':tagged_headlines})\n",
    "\n",
    "wordCount = [] \n",
    "positionCount = {}\n",
    "\n",
    "for headline in thDataframe[u'tags']:\n",
    "    wordCount.append(len(headline))\n",
    "    for tag in headline:\n",
    "        if tag[1] in positionCount:\n",
    "            positionCount[tag[1]] += 1\n",
    "        else:\n",
    "            positionCount[tag[1]] = 1"
   ]
  },
  {
   "cell_type": "code",
   "execution_count": 11,
   "metadata": {},
   "outputs": [
    {
     "name": "stdout",
     "output_type": "stream",
     "text": [
      "Before vect. headline: beijing tells asia pacific no need to choose between china us\n",
      "After vect. headline: \n",
      "  (0, 25544)\t1\n",
      "  (0, 24295)\t1\n",
      "  (0, 35384)\t1\n",
      "  (0, 4575)\t1\n",
      "  (0, 3266)\t1\n",
      "  (0, 7572)\t1\n",
      "  (0, 7515)\t1\n"
     ]
    }
   ],
   "source": [
    "# LSA Topic modelling\n",
    "\n",
    "NewCountVect = CountVectorizer(stop_words=stopwords, max_features=40000)\n",
    "DataSample = data.sample(n=100000, random_state=0).values\n",
    "\n",
    "print('Before vect. headline: {}'.format(DataSample[123]))\n",
    "TermMatrix = NewCountVect.fit_transform(DataSample)\n",
    "\n",
    "print('After vect. headline: \\n{}'.format(TermMatrix[123]))"
   ]
  },
  {
   "cell_type": "code",
   "execution_count": 12,
   "metadata": {},
   "outputs": [],
   "source": [
    "NoOfTopics = 15"
   ]
  },
  {
   "cell_type": "code",
   "execution_count": 13,
   "metadata": {},
   "outputs": [],
   "source": [
    "# Defining LSA Model\n",
    "\n",
    "Model = TruncatedSVD(n_components=NoOfTopics)\n",
    "TopicMatrix = Model.fit_transform(TermMatrix)"
   ]
  },
  {
   "cell_type": "code",
   "execution_count": 14,
   "metadata": {},
   "outputs": [],
   "source": [
    "## Define helper functions to get keys that returns an integer list of predicted topic \n",
    "## categories for a given topic matrix\n",
    "## and KeysToCount that returns a tuple of topic categories and their \n",
    "## accompanying magnitudes for a given list of keys\n",
    "\n",
    "def getKeys(topic_matrix):\n",
    "    keys = topic_matrix.argmax(axis=1).tolist()\n",
    "    return keys\n",
    "\n",
    "def countOfKeys(keys):\n",
    "    pairs = Counter(keys).items()\n",
    "    categories = [pair[0] for pair in pairs]\n",
    "    counts = [pair[1] for pair in pairs]\n",
    "    return (categories, counts)"
   ]
  },
  {
   "cell_type": "code",
   "execution_count": 15,
   "metadata": {},
   "outputs": [
    {
     "name": "stdout",
     "output_type": "stream",
     "text": [
      "9\n",
      "1\n",
      "10\n",
      "13\n",
      "6\n",
      "2\n",
      "8\n",
      "5\n",
      "0\n",
      "12\n",
      "14\n",
      "4\n",
      "7\n",
      "3\n",
      "11\n"
     ]
    }
   ],
   "source": [
    "keys = getKeys(TopicMatrix)\n",
    "categories, counts = countOfKeys(keys)\n",
    "categories\n",
    "for i in range(15):\n",
    "    print(categories[i])"
   ]
  },
  {
   "cell_type": "code",
   "execution_count": 16,
   "metadata": {},
   "outputs": [],
   "source": [
    "## Define helper function get_top_n_words that returns a list of n_topic strings, \n",
    "## where each string contains the n most common words in a predicted category, in order\n",
    "\n",
    "def TopNWords(n, keys, TermMatrix, Vectorizer):\n",
    "    indices = []\n",
    "    for topic in range(n):\n",
    "        Vectorsum = 0\n",
    "        for i in range(len(keys)):\n",
    "            if keys[i] == topic:\n",
    "                Vectorsum += TermMatrix[i]\n",
    "        VectorSum = Vectorsum.toarray()\n",
    "        NWordIndices = np.flip(np.argsort(VectorSum)[0][-n:],0)\n",
    "        indices.append(NWordIndices)   \n",
    "    topWords = []\n",
    "    for topic in indices:\n",
    "        topicWords = []\n",
    "        for index in topic:\n",
    "            tempWordVector = np.zeros((1,TermMatrix.shape[1]))\n",
    "            tempWordVector[:,index] = 1\n",
    "            Word = Vectorizer.inverse_transform(tempWordVector)[0][0]\n",
    "            topicWords.append(Word.encode('ascii').decode('utf-8'))\n",
    "        topWords.append(\" \".join(topicWords))         \n",
    "    return topWords"
   ]
  },
  {
   "cell_type": "code",
   "execution_count": 17,
   "metadata": {},
   "outputs": [
    {
     "name": "stdout",
     "output_type": "stream",
     "text": [
      "Topic 1:  police say search missing shooting victoria arrested body officer station arrest shot footage hunt drug\n",
      "Topic 2:  trump donald china ban deal house president tax debate media power clinton ahead labor obama\n",
      "Topic 3:  government tasmanian accused federal victorian high face laws act case power drug rail appeal charges\n",
      "Topic 4:  court hears told high accused murder supreme face alleged faces case charged appears appeal rules\n",
      "Topic 5:  country 2015 hour drum big october november december wednesday tuesday friday monday podcast thursday september\n",
      "Topic 6:  election labor live afl campaign party liberal nation liberals blog federal candidates seat candidate abc\n",
      "Topic 7:  coast gold central storm afl missing cyclone sunshine beach nrl weather shark games sea western\n",
      "Topic 8:  queensland palmer outback clive nickel drought cyclone laws origin cattle reds rain debbie parliament central\n",
      "Topic 9:  charged murder guilty pleads trial men mother sentenced jailed stabbing assault alleged accused death baby\n",
      "Topic 10:  world league win test cup wins record women final rugby war festival city cricket zealand\n",
      "Topic 11:  calls indigenous school tasmania hospital nt state market water turnbull national minister family people report\n",
      "Topic 12:  death life inquest quiz abc coroner news toll custody family baby suspicious court guilty mother\n",
      "Topic 13:  crash dies brisbane rio dead near killed open hit council driver injured fatal truck road\n",
      "Topic 14:  health mental trial rural service minister illness services reporter jury sach patients insurance funding government\n",
      "Topic 15:  child attack sex abuse commission sexual royal marriage charges victims protection jailed assault church offences\n"
     ]
    }
   ],
   "source": [
    "topWordsLSA = TopNWords(15, keys, TermMatrix, NewCountVect)\n",
    "\n",
    "for i in range(len(topWordsLSA)):\n",
    "    print(\"Topic {}: \".format(i+1), topWordsLSA[i])"
   ]
  },
  {
   "cell_type": "code",
   "execution_count": 18,
   "metadata": {},
   "outputs": [
    {
     "data": {
      "image/png": "[encoded data removed]",
      "text/plain": [
       "<Figure size 1152x576 with 1 Axes>"
      ]
     },
     "metadata": {
      "needs_background": "light"
     },
     "output_type": "display_data"
    },
    {
     "name": "stdout",
     "output_type": "stream",
     "text": [
      "Topic 9:\n",
      "world league win test cup wins record women final rugby war festival city cricket zealand\n",
      "Topic 1:\n",
      "trump donald china ban deal house president tax debate media power clinton ahead labor obama\n",
      "Topic 10:\n",
      "calls indigenous school tasmania hospital nt state market water turnbull national minister family people report\n",
      "Topic 13:\n",
      "health mental trial rural service minister illness services reporter jury sach patients insurance funding government\n",
      "Topic 6:\n",
      "coast gold central storm afl missing cyclone sunshine beach nrl weather shark games sea western\n",
      "Topic 2:\n",
      "government tasmanian accused federal victorian high face laws act case power drug rail appeal charges\n",
      "Topic 8:\n",
      "charged murder guilty pleads trial men mother sentenced jailed stabbing assault alleged accused death baby\n",
      "Topic 5:\n",
      "election labor live afl campaign party liberal nation liberals blog federal candidates seat candidate abc\n",
      "Topic 0:\n",
      "police say search missing shooting victoria arrested body officer station arrest shot footage hunt drug\n",
      "Topic 12:\n",
      "crash dies brisbane rio dead near killed open hit council driver injured fatal truck road\n",
      "Topic 14:\n",
      "child attack sex abuse commission sexual royal marriage charges victims protection jailed assault church offences\n",
      "Topic 4:\n",
      "country 2015 hour drum big october november december wednesday tuesday friday monday podcast thursday september\n",
      "Topic 7:\n",
      "queensland palmer outback clive nickel drought cyclone laws origin cattle reds rain debbie parliament central\n",
      "Topic 3:\n",
      "court hears told high accused murder supreme face alleged faces case charged appears appeal rules\n",
      "Topic 11:\n",
      "death life inquest quiz abc coroner news toll custody family baby suspicious court guilty mother\n"
     ]
    }
   ],
   "source": [
    "## Visualise each topic vs Number of headlines These will be the most discussed topics \n",
    "\n",
    "Nwords = TopNWords(15, keys, TermMatrix, NewCountVect)\n",
    "labels = ['Topic {}: \\n'.format(categories[i]) for i in range(15)]\n",
    "\n",
    "fig, ax = plt.subplots(figsize=(16,8))\n",
    "ax.bar(categories, counts);\n",
    "ax.set_xticks(categories);\n",
    "ax.set_xticklabels(labels);\n",
    "ax.set_ylabel('No.OfHeadlines');\n",
    "ax.set_title('LSACounts');\n",
    "plt.show()\n",
    "for i in categories:\n",
    "    print('Topic {}:\\n'.format(i) + Nwords[i])"
   ]
  },
  {
   "cell_type": "markdown",
   "metadata": {},
   "source": [
    "## Dimentionality reduction and plotting using TSNE"
   ]
  },
  {
   "cell_type": "code",
   "execution_count": 19,
   "metadata": {},
   "outputs": [
    {
     "name": "stdout",
     "output_type": "stream",
     "text": [
      "[t-SNE] Computing 151 nearest neighbors...\n",
      "[t-SNE] Indexed 100000 samples in 0.400s...\n",
      "[t-SNE] Computed neighbors for 100000 samples in 132.572s...\n",
      "[t-SNE] Computed conditional probabilities for sample 1000 / 100000\n",
      "[t-SNE] Computed conditional probabilities for sample 2000 / 100000\n",
      "[t-SNE] Computed conditional probabilities for sample 3000 / 100000\n",
      "[t-SNE] Computed conditional probabilities for sample 4000 / 100000\n",
      "[t-SNE] Computed conditional probabilities for sample 5000 / 100000\n",
      "[t-SNE] Computed conditional probabilities for sample 6000 / 100000\n",
      "[t-SNE] Computed conditional probabilities for sample 7000 / 100000\n",
      "[t-SNE] Computed conditional probabilities for sample 8000 / 100000\n",
      "[t-SNE] Computed conditional probabilities for sample 9000 / 100000\n",
      "[t-SNE] Computed conditional probabilities for sample 10000 / 100000\n",
      "[t-SNE] Computed conditional probabilities for sample 11000 / 100000\n",
      "[t-SNE] Computed conditional probabilities for sample 12000 / 100000\n",
      "[t-SNE] Computed conditional probabilities for sample 13000 / 100000\n",
      "[t-SNE] Computed conditional probabilities for sample 14000 / 100000\n",
      "[t-SNE] Computed conditional probabilities for sample 15000 / 100000\n",
      "[t-SNE] Computed conditional probabilities for sample 16000 / 100000\n",
      "[t-SNE] Computed conditional probabilities for sample 17000 / 100000\n",
      "[t-SNE] Computed conditional probabilities for sample 18000 / 100000\n",
      "[t-SNE] Computed conditional probabilities for sample 19000 / 100000\n",
      "[t-SNE] Computed conditional probabilities for sample 20000 / 100000\n",
      "[t-SNE] Computed conditional probabilities for sample 21000 / 100000\n",
      "[t-SNE] Computed conditional probabilities for sample 22000 / 100000\n",
      "[t-SNE] Computed conditional probabilities for sample 23000 / 100000\n",
      "[t-SNE] Computed conditional probabilities for sample 24000 / 100000\n",
      "[t-SNE] Computed conditional probabilities for sample 25000 / 100000\n",
      "[t-SNE] Computed conditional probabilities for sample 26000 / 100000\n",
      "[t-SNE] Computed conditional probabilities for sample 27000 / 100000\n",
      "[t-SNE] Computed conditional probabilities for sample 28000 / 100000\n",
      "[t-SNE] Computed conditional probabilities for sample 29000 / 100000\n",
      "[t-SNE] Computed conditional probabilities for sample 30000 / 100000\n",
      "[t-SNE] Computed conditional probabilities for sample 31000 / 100000\n",
      "[t-SNE] Computed conditional probabilities for sample 32000 / 100000\n",
      "[t-SNE] Computed conditional probabilities for sample 33000 / 100000\n",
      "[t-SNE] Computed conditional probabilities for sample 34000 / 100000\n",
      "[t-SNE] Computed conditional probabilities for sample 35000 / 100000\n",
      "[t-SNE] Computed conditional probabilities for sample 36000 / 100000\n",
      "[t-SNE] Computed conditional probabilities for sample 37000 / 100000\n",
      "[t-SNE] Computed conditional probabilities for sample 38000 / 100000\n",
      "[t-SNE] Computed conditional probabilities for sample 39000 / 100000\n",
      "[t-SNE] Computed conditional probabilities for sample 40000 / 100000\n",
      "[t-SNE] Computed conditional probabilities for sample 41000 / 100000\n",
      "[t-SNE] Computed conditional probabilities for sample 42000 / 100000\n",
      "[t-SNE] Computed conditional probabilities for sample 43000 / 100000\n",
      "[t-SNE] Computed conditional probabilities for sample 44000 / 100000\n",
      "[t-SNE] Computed conditional probabilities for sample 45000 / 100000\n",
      "[t-SNE] Computed conditional probabilities for sample 46000 / 100000\n",
      "[t-SNE] Computed conditional probabilities for sample 47000 / 100000\n",
      "[t-SNE] Computed conditional probabilities for sample 48000 / 100000\n",
      "[t-SNE] Computed conditional probabilities for sample 49000 / 100000\n",
      "[t-SNE] Computed conditional probabilities for sample 50000 / 100000\n",
      "[t-SNE] Computed conditional probabilities for sample 51000 / 100000\n",
      "[t-SNE] Computed conditional probabilities for sample 52000 / 100000\n",
      "[t-SNE] Computed conditional probabilities for sample 53000 / 100000\n",
      "[t-SNE] Computed conditional probabilities for sample 54000 / 100000\n",
      "[t-SNE] Computed conditional probabilities for sample 55000 / 100000\n",
      "[t-SNE] Computed conditional probabilities for sample 56000 / 100000\n",
      "[t-SNE] Computed conditional probabilities for sample 57000 / 100000\n",
      "[t-SNE] Computed conditional probabilities for sample 58000 / 100000\n",
      "[t-SNE] Computed conditional probabilities for sample 59000 / 100000\n",
      "[t-SNE] Computed conditional probabilities for sample 60000 / 100000\n",
      "[t-SNE] Computed conditional probabilities for sample 61000 / 100000\n",
      "[t-SNE] Computed conditional probabilities for sample 62000 / 100000\n",
      "[t-SNE] Computed conditional probabilities for sample 63000 / 100000\n",
      "[t-SNE] Computed conditional probabilities for sample 64000 / 100000\n",
      "[t-SNE] Computed conditional probabilities for sample 65000 / 100000\n",
      "[t-SNE] Computed conditional probabilities for sample 66000 / 100000\n",
      "[t-SNE] Computed conditional probabilities for sample 67000 / 100000\n",
      "[t-SNE] Computed conditional probabilities for sample 68000 / 100000\n",
      "[t-SNE] Computed conditional probabilities for sample 69000 / 100000\n",
      "[t-SNE] Computed conditional probabilities for sample 70000 / 100000\n",
      "[t-SNE] Computed conditional probabilities for sample 71000 / 100000\n",
      "[t-SNE] Computed conditional probabilities for sample 72000 / 100000\n",
      "[t-SNE] Computed conditional probabilities for sample 73000 / 100000\n",
      "[t-SNE] Computed conditional probabilities for sample 74000 / 100000\n",
      "[t-SNE] Computed conditional probabilities for sample 75000 / 100000\n",
      "[t-SNE] Computed conditional probabilities for sample 76000 / 100000\n",
      "[t-SNE] Computed conditional probabilities for sample 77000 / 100000\n",
      "[t-SNE] Computed conditional probabilities for sample 78000 / 100000\n",
      "[t-SNE] Computed conditional probabilities for sample 79000 / 100000\n",
      "[t-SNE] Computed conditional probabilities for sample 80000 / 100000\n",
      "[t-SNE] Computed conditional probabilities for sample 81000 / 100000\n",
      "[t-SNE] Computed conditional probabilities for sample 82000 / 100000\n",
      "[t-SNE] Computed conditional probabilities for sample 83000 / 100000\n",
      "[t-SNE] Computed conditional probabilities for sample 84000 / 100000\n",
      "[t-SNE] Computed conditional probabilities for sample 85000 / 100000\n",
      "[t-SNE] Computed conditional probabilities for sample 86000 / 100000\n",
      "[t-SNE] Computed conditional probabilities for sample 87000 / 100000\n",
      "[t-SNE] Computed conditional probabilities for sample 88000 / 100000\n",
      "[t-SNE] Computed conditional probabilities for sample 89000 / 100000\n",
      "[t-SNE] Computed conditional probabilities for sample 90000 / 100000\n",
      "[t-SNE] Computed conditional probabilities for sample 91000 / 100000\n",
      "[t-SNE] Computed conditional probabilities for sample 92000 / 100000\n",
      "[t-SNE] Computed conditional probabilities for sample 93000 / 100000\n",
      "[t-SNE] Computed conditional probabilities for sample 94000 / 100000\n",
      "[t-SNE] Computed conditional probabilities for sample 95000 / 100000\n",
      "[t-SNE] Computed conditional probabilities for sample 96000 / 100000\n",
      "[t-SNE] Computed conditional probabilities for sample 97000 / 100000\n",
      "[t-SNE] Computed conditional probabilities for sample 98000 / 100000\n",
      "[t-SNE] Computed conditional probabilities for sample 99000 / 100000\n",
      "[t-SNE] Computed conditional probabilities for sample 100000 / 100000\n",
      "[t-SNE] Mean sigma: 0.000000\n",
      "[t-SNE] KL divergence after 250 iterations with early exaggeration: 95.158203\n",
      "[t-SNE] KL divergence after 2000 iterations: 2.157797\n"
     ]
    }
   ],
   "source": [
    "tsne_lsa_model = TSNE(n_components=2, perplexity=50, learning_rate=100, \n",
    "                        n_iter=2000, verbose=1, random_state=0, angle=0.75)\n",
    "tsne_lsa_vectors = tsne_lsa_model.fit_transform(TopicMatrix)"
   ]
  },
  {
   "cell_type": "code",
   "execution_count": 21,
   "metadata": {},
   "outputs": [],
   "source": [
    "# Define helper functions\n",
    "def get_mean_topic_vectors(keys, two_dim_vectors):\n",
    "    '''\n",
    "    returns a list of centroid vectors from each predicted topic category\n",
    "    '''\n",
    "    mean_topic_vectors = []\n",
    "    for t in range(NoOfTopics):\n",
    "        articles_in_that_topic = []\n",
    "        for i in range(len(keys)):\n",
    "            if keys[i] == t:\n",
    "                articles_in_that_topic.append(two_dim_vectors[i])    \n",
    "        \n",
    "        articles_in_that_topic = np.vstack(articles_in_that_topic)\n",
    "        mean_article_in_that_topic = np.mean(articles_in_that_topic, axis=0)\n",
    "        mean_topic_vectors.append(mean_article_in_that_topic)\n",
    "    return mean_topic_vectors"
   ]
  },
  {
   "cell_type": "code",
   "execution_count": 22,
   "metadata": {},
   "outputs": [],
   "source": [
    "colormap = np.array([\n",
    "    \"#1f77b4\", \"#aec7e8\", \"#ff7f0e\", \"#ffbb78\", \"#2ca02c\",\n",
    "    \"#98df8a\", \"#d62728\", \"#ff9896\", \"#9467bd\", \"#c5b0d5\",\n",
    "    \"#8c564b\", \"#c49c94\", \"#e377c2\", \"#f7b6d2\", \"#7f7f7f\",\n",
    "    \"#c7c7c7\", \"#bcbd22\", \"#dbdb8d\", \"#17becf\", \"#9edae5\" ])\n",
    "colormap = colormap[:NoOfTopics]"
   ]
  },
  {
   "cell_type": "code",
   "execution_count": 25,
   "metadata": {},
   "outputs": [],
   "source": [
    "#Nwords = TopNWords(15, keys, TermMatrix, NewCountVect)\n",
    "lsa_mean_topic_vectors = get_mean_topic_vectors(keys, tsne_lsa_vectors)\n",
    "\n",
    "plot = figure(title=\"t-SNE Clustering of {} LSA Topics\".format(NoOfTopics), plot_width=700, plot_height=700)\n",
    "plot.scatter(x=tsne_lsa_vectors[:,0], y=tsne_lsa_vectors[:,1], color=colormap[keys])\n",
    "\n",
    "for t in range(NoOfTopics):\n",
    "    label = Label(x=lsa_mean_topic_vectors[t][0], y=lsa_mean_topic_vectors[t][1], \n",
    "                  text=Nwords[t], text_color=colormap[t])\n",
    "    plot.add_layout(label)\n",
    "    \n",
    "show(plot)"
   ]
  }
 ],
 "metadata": {
  "kernelspec": {
   "display_name": "Python 3",
   "language": "python",
   "name": "python3"
  },
  "language_info": {
   "codemirror_mode": {
    "name": "ipython",
    "version": 3
   },
   "file_extension": ".py",
   "mimetype": "text/x-python",
   "name": "python",
   "nbconvert_exporter": "python",
   "pygments_lexer": "ipython3",
   "version": "3.6.10"
  }
 },
 "nbformat": 4,
 "nbformat_minor": 4
}
